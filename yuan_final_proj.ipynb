{
 "cells": [
  {
   "cell_type": "markdown",
   "id": "07e2b217-c272-49c9-a4ba-e515e9668be5",
   "metadata": {},
   "source": [
    "# Exploring the Trends Within Heart Disease and Predicting Diagnosis\n",
    "# Introduction and Motivation"
   ]
  },
  {
   "cell_type": "markdown",
   "id": "81127b53-aef1-4988-b16f-c7f6640022f7",
   "metadata": {},
   "source": [
    "Heart disease is the leading cause of death in many developed first-world nations. As a result, the research, awareness, and prevention of heart disease garners a lot of attention in both the medical and public scene. Although the fear of heart disease occuring to oneself resides almost exclusively in the older population, the death of a loved one can greatly impact affected families as a whole. From a more personal experience, my grandfather (who's over 80), told me a few years ago that heart disease is his most feared illness, because of how sudden it can occur and how quickly it can kill. Although my grandfather is a very active and healthy person for his age, he has diabetes, which puts him at a greater risk towards heart disease. What he told me has stuck with me ever since, and is why I'm personally interested in exploring more about the topic. "
   ]
  },
  {
   "cell_type": "markdown",
   "id": "ed05d985-7f38-48de-b85c-bd820a8baa0f",
   "metadata": {},
   "source": [
    "Created by Yuan Qi on 05/16/2022"
   ]
  },
  {
   "cell_type": "markdown",
   "id": "bb1c0e66-0c9e-4937-b93b-1e84a69e2d8a",
   "metadata": {},
   "source": [
    "**Firstly, here are libraries and imports used in this project**"
   ]
  },
  {
   "cell_type": "code",
   "execution_count": 1,
   "id": "cbf67048-c806-4ea9-b7a1-38a6d5958429",
   "metadata": {},
   "outputs": [],
   "source": [
    "import numpy as np\n",
    "import pandas as pd\n",
    "import matplotlib.pyplot as plt\n",
    "import seaborn as sns\n",
    "\n",
    "from sklearn.linear_model import LogisticRegression\n",
    "from sklearn.model_selection import train_test_split\n",
    "from sklearn.model_selection import KFold\n",
    "from sklearn.model_selection import cross_val_score\n",
    "from scipy import stats as st"
   ]
  },
  {
   "cell_type": "markdown",
   "id": "e6ed199b-4a91-4a14-b847-c4f465d0ba31",
   "metadata": {},
   "source": [
    "## The Process"
   ]
  },
  {
   "cell_type": "markdown",
   "id": "31e31912-0e66-4ebc-9cf1-27427b0571d3",
   "metadata": {},
   "source": [
    "**1. The Dataset Used**"
   ]
  },
  {
   "cell_type": "markdown",
   "id": "719e403b-1d3e-401f-8ad3-72f9e2ede60d",
   "metadata": {},
   "source": [
    "The dataset I used comes from UC Irvine (UCI)'s Machine Learning Repository, and is downloadable from <a href=\"https://archive.ics.uci.edu/ml/datasets/heart+disease\" target=\"blank\">this link</a>. It includes the processed Cleveland heart disease dataset which I used, and was created by the Cleveland Clinic Foundation. The original dataset includes 76 features, but the processed one only includes 14 of them. There are a lot of technical terms involved in this dataset, so I've included links for them listed below if you'd like to learn more about the different features. The 14 features used in the processed database are as follows:\n",
    "1. age: the age of the patient\n",
    "2. sex: the sex of the patient\n",
    "3. <a href=\"https://www.heart.org/en/health-topics/heart-attack/angina-chest-pain\" target=\"blank\">cp</a> : type of chest pain, takes 4 values\n",
    "    - 1: typical angina\n",
    "    - 2: atypical angina\n",
    "    - 3: non-angina pain (i.e. pain not caused by heart disease)\n",
    "    - 4: asymptomatic (i.e. no symptoms of chest pain)\n",
    "4. trestbps: resting blood pressure (in mmHg)\n",
    "5. chol: serum cholesterol level (in mg/dl)\n",
    "6. fbs: fasting blood sugar > 120 mg/dl (1 = true, 0 = false)\n",
    "7. <a href=\"https://www.healthline.com/health/abnormal-ekg#results\" target=\"blank\">restecg</a>: resting electrocardiographic results, takes 3 values\n",
    "    - 0: normal\n",
    "    - 1: having ST-T wave abnormality\n",
    "    - 2: probable left ventricular hypertrophy\n",
    "8. thalach: maximum attained heart rate\n",
    "9. exang: exercise-induced angina (1 = yes, 0 = no) (i.e. does exercise cause angina?)\n",
    "10. <a href=\"https://litfl.com/st-segment-ecg-library/\" target=\"blank\">oldpeak</a>: ST depression induced by exercise relative to rest\n",
    "11. slope: the slope of the peak exercise ST segment, takes 3 values\n",
    "    - 1: upsloping\n",
    "    - 2: flat\n",
    "    - 3: downsloping\n",
    "12. <a href=\"https://medlineplus.gov/lab-tests/fluoroscopy/#:~:text=In%20this%20procedure%2C%20fluoroscopy%20shows,Catheters%20are%20thin%2C%20hollow%20tubes.\" target=\"blank\">ca</a>: number of major vessels (0 - 3) colored by flouroscopy\n",
    "13. <a href=\"https://medlineplus.gov/ency/article/000587.htm\" target=\"blank\">thal</a>: status of the blood disorder thalassemia, takes 3 values\n",
    "    - 3: None\n",
    "    - 6: fixed defect \n",
    "    - 7: reversable defect\n",
    "14. <a href=\"https://www.mayoclinic.org/tests-procedures/coronary-angiogram/about/pac-20384904\" target=\"blank\">Diagnosis of angiographic heart disease status</a>, takes 2 values\n",
    "    - 0: < 50% artery diameter narrowing\n",
    "    - 1: > 50% artery diameter narrowing "
   ]
  },
  {
   "cell_type": "markdown",
   "id": "847c36c6-80ad-4404-921b-c4f644fc2b8e",
   "metadata": {},
   "source": [
    "**2. Data Loading and Pre-processing**"
   ]
  },
  {
   "cell_type": "markdown",
   "id": "59ecc025-f5ef-453b-849e-bcd6493a787e",
   "metadata": {},
   "source": [
    "The data is downloadable from this link, by clicking on \"Data Folder\" at the top and \"processed.cleveland.data\" should be listed. The data is comma-separated, so reading it can be done very easily. While doing so, let's give each column a meaningful name to better interpret its attributes. "
   ]
  },
  {
   "cell_type": "code",
   "execution_count": 2,
   "id": "54580cd2-568e-4632-b8a5-28f614345e09",
   "metadata": {},
   "outputs": [
    {
     "data": {
      "text/html": [
       "<div>\n",
       "<style scoped>\n",
       "    .dataframe tbody tr th:only-of-type {\n",
       "        vertical-align: middle;\n",
       "    }\n",
       "\n",
       "    .dataframe tbody tr th {\n",
       "        vertical-align: top;\n",
       "    }\n",
       "\n",
       "    .dataframe thead th {\n",
       "        text-align: right;\n",
       "    }\n",
       "</style>\n",
       "<table border=\"1\" class=\"dataframe\">\n",
       "  <thead>\n",
       "    <tr style=\"text-align: right;\">\n",
       "      <th></th>\n",
       "      <th>Age</th>\n",
       "      <th>Sex</th>\n",
       "      <th>Chest Pain Type</th>\n",
       "      <th>Resting Blood Pressure</th>\n",
       "      <th>Cholesterol Level</th>\n",
       "      <th>Fasting Blood Sugar</th>\n",
       "      <th>Resting ECG</th>\n",
       "      <th>Max Heart Rate</th>\n",
       "      <th>Exercise Induced Angina</th>\n",
       "      <th>ST Segment Depression</th>\n",
       "      <th>Slope of Peak ST</th>\n",
       "      <th>Major Vessels Colored</th>\n",
       "      <th>Thalassemia</th>\n",
       "      <th>Diagnosis</th>\n",
       "    </tr>\n",
       "  </thead>\n",
       "  <tbody>\n",
       "    <tr>\n",
       "      <th>0</th>\n",
       "      <td>63.0</td>\n",
       "      <td>1.0</td>\n",
       "      <td>1.0</td>\n",
       "      <td>145.0</td>\n",
       "      <td>233.0</td>\n",
       "      <td>1.0</td>\n",
       "      <td>2.0</td>\n",
       "      <td>150.0</td>\n",
       "      <td>0.0</td>\n",
       "      <td>2.3</td>\n",
       "      <td>3.0</td>\n",
       "      <td>0.0</td>\n",
       "      <td>6.0</td>\n",
       "      <td>0</td>\n",
       "    </tr>\n",
       "    <tr>\n",
       "      <th>1</th>\n",
       "      <td>67.0</td>\n",
       "      <td>1.0</td>\n",
       "      <td>4.0</td>\n",
       "      <td>160.0</td>\n",
       "      <td>286.0</td>\n",
       "      <td>0.0</td>\n",
       "      <td>2.0</td>\n",
       "      <td>108.0</td>\n",
       "      <td>1.0</td>\n",
       "      <td>1.5</td>\n",
       "      <td>2.0</td>\n",
       "      <td>3.0</td>\n",
       "      <td>3.0</td>\n",
       "      <td>2</td>\n",
       "    </tr>\n",
       "    <tr>\n",
       "      <th>2</th>\n",
       "      <td>67.0</td>\n",
       "      <td>1.0</td>\n",
       "      <td>4.0</td>\n",
       "      <td>120.0</td>\n",
       "      <td>229.0</td>\n",
       "      <td>0.0</td>\n",
       "      <td>2.0</td>\n",
       "      <td>129.0</td>\n",
       "      <td>1.0</td>\n",
       "      <td>2.6</td>\n",
       "      <td>2.0</td>\n",
       "      <td>2.0</td>\n",
       "      <td>7.0</td>\n",
       "      <td>1</td>\n",
       "    </tr>\n",
       "    <tr>\n",
       "      <th>3</th>\n",
       "      <td>37.0</td>\n",
       "      <td>1.0</td>\n",
       "      <td>3.0</td>\n",
       "      <td>130.0</td>\n",
       "      <td>250.0</td>\n",
       "      <td>0.0</td>\n",
       "      <td>0.0</td>\n",
       "      <td>187.0</td>\n",
       "      <td>0.0</td>\n",
       "      <td>3.5</td>\n",
       "      <td>3.0</td>\n",
       "      <td>0.0</td>\n",
       "      <td>3.0</td>\n",
       "      <td>0</td>\n",
       "    </tr>\n",
       "    <tr>\n",
       "      <th>4</th>\n",
       "      <td>41.0</td>\n",
       "      <td>0.0</td>\n",
       "      <td>2.0</td>\n",
       "      <td>130.0</td>\n",
       "      <td>204.0</td>\n",
       "      <td>0.0</td>\n",
       "      <td>2.0</td>\n",
       "      <td>172.0</td>\n",
       "      <td>0.0</td>\n",
       "      <td>1.4</td>\n",
       "      <td>1.0</td>\n",
       "      <td>0.0</td>\n",
       "      <td>3.0</td>\n",
       "      <td>0</td>\n",
       "    </tr>\n",
       "  </tbody>\n",
       "</table>\n",
       "</div>"
      ],
      "text/plain": [
       "    Age  Sex  Chest Pain Type  Resting Blood Pressure  Cholesterol Level  \\\n",
       "0  63.0  1.0              1.0                   145.0              233.0   \n",
       "1  67.0  1.0              4.0                   160.0              286.0   \n",
       "2  67.0  1.0              4.0                   120.0              229.0   \n",
       "3  37.0  1.0              3.0                   130.0              250.0   \n",
       "4  41.0  0.0              2.0                   130.0              204.0   \n",
       "\n",
       "   Fasting Blood Sugar  Resting ECG  Max Heart Rate  Exercise Induced Angina  \\\n",
       "0                  1.0          2.0           150.0                      0.0   \n",
       "1                  0.0          2.0           108.0                      1.0   \n",
       "2                  0.0          2.0           129.0                      1.0   \n",
       "3                  0.0          0.0           187.0                      0.0   \n",
       "4                  0.0          2.0           172.0                      0.0   \n",
       "\n",
       "   ST Segment Depression  Slope of Peak ST Major Vessels Colored Thalassemia  \\\n",
       "0                    2.3               3.0                   0.0         6.0   \n",
       "1                    1.5               2.0                   3.0         3.0   \n",
       "2                    2.6               2.0                   2.0         7.0   \n",
       "3                    3.5               3.0                   0.0         3.0   \n",
       "4                    1.4               1.0                   0.0         3.0   \n",
       "\n",
       "   Diagnosis  \n",
       "0          0  \n",
       "1          2  \n",
       "2          1  \n",
       "3          0  \n",
       "4          0  "
      ]
     },
     "execution_count": 2,
     "metadata": {},
     "output_type": "execute_result"
    }
   ],
   "source": [
    "columns = [\"Age\", \"Sex\", \"Chest Pain Type\", \"Resting Blood Pressure\", \"Cholesterol Level\", \"Fasting Blood Sugar\", \"Resting ECG\", \"Max Heart Rate\", \"Exercise Induced Angina\", \"ST Segment Depression\", \"Slope of Peak ST\", \"Major Vessels Colored\", \"Thalassemia\", \"Diagnosis\"]\n",
    "\n",
    "# read the file as a csv and assign appropriate column names. \n",
    "df = pd.read_csv(\"processed_cleveland.data\", names=columns)\n",
    "df.head()"
   ]
  },
  {
   "cell_type": "markdown",
   "id": "fded3a76-89b6-4faa-a172-f0cb5ed0e607",
   "metadata": {},
   "source": [
    "Next, let's see how many rows we are working with. 303! Not bad, but pre-processing in the next step may reduce this number. "
   ]
  },
  {
   "cell_type": "code",
   "execution_count": 3,
   "id": "ae9438be-8462-4ed2-a679-1c5a8014b30e",
   "metadata": {},
   "outputs": [
    {
     "data": {
      "text/plain": [
       "(303, 14)"
      ]
     },
     "execution_count": 3,
     "metadata": {},
     "output_type": "execute_result"
    }
   ],
   "source": [
    "df.shape"
   ]
  },
  {
   "cell_type": "markdown",
   "id": "0b12990b-fdfe-45b3-b6f7-4b14c564b371",
   "metadata": {},
   "source": [
    "Alright, let's now check for any missing data. This step is crucial because bad data can mess with our analysis and needs to be addressed. Let's see which rows, if any, are \"missing\". Notice how every value in the dataset can be represented by a floating point decimal, so let's see if any rows contain values which aren't. If so, those rows represent some data \"missing\". "
   ]
  },
  {
   "cell_type": "code",
   "execution_count": 4,
   "id": "bb17fe5f-1ead-47e9-ae23-9b584206c19b",
   "metadata": {},
   "outputs": [
    {
     "data": {
      "text/plain": [
       "[87, 166, 192, 266, 287, 302]"
      ]
     },
     "execution_count": 4,
     "metadata": {},
     "output_type": "execute_result"
    }
   ],
   "source": [
    "missing = []\n",
    "# loop through all rows in the dataframe with df.iterrows()\n",
    "for i, row in df.iterrows():\n",
    "    try:\n",
    "        # check if each value in the row can be turned into a float\n",
    "        [float(val) for val in list(row)]\n",
    "    except:\n",
    "        # if cannot be converted to a float, this row has invalid data.\n",
    "        missing.append(i)\n",
    "missing"
   ]
  },
  {
   "cell_type": "markdown",
   "id": "8d2e02c2-5e77-40ff-b1d5-3c8332993e9d",
   "metadata": {},
   "source": [
    "It turns out that 6 rows have invalid data. We have a few options to deal with this, but the simplest one is to just remove those 6 rows, since 6 rows is not a lot. An alternative approach is to impute the missing values in each row with the median or mean, in which we replace the missing values with the median or mean of their respective columns. Both approaches are fine with their own benefits and drawbacks. Deleteing the rows can be bad because we are removing data that could be useful, as the more data be have, the better. Imputing could be bad because we could be introducing bias into our data, since we are merely estimating their values. But, for our purposes, both should work fine as we are missing only a small number of rows. \n",
    "\n",
    "Additionally, the description given to the diagnosis column is that it should take a value of 0 or 1, but the dataset actually has values between 0 and 4. Fortunately, most of the rows are 0 or 1, so to be safe, let's only keep the rows with a diagnosis of 0 or 1. We don't actually know what a diagnosis value of 2, 3, or 4 represent!\n",
    "\n",
    "This gives us a total of 214 rows after pre-processing. "
   ]
  },
  {
   "cell_type": "code",
   "execution_count": 5,
   "id": "c57146e8-1e66-4984-8dc5-20861fd33b55",
   "metadata": {},
   "outputs": [
    {
     "data": {
      "text/plain": [
       "(214, 14)"
      ]
     },
     "execution_count": 5,
     "metadata": {},
     "output_type": "execute_result"
    }
   ],
   "source": [
    "# drop the missing rows\n",
    "df = df.drop(missing, axis=0)\n",
    "\n",
    "df = df.loc[df[\"Diagnosis\"] < 2]\n",
    "\n",
    "# reset the index after dropping rows\n",
    "df = df.reset_index()\n",
    "df = df.drop(columns=[\"index\"])\n",
    "df.shape"
   ]
  },
  {
   "cell_type": "markdown",
   "id": "f7ade4d6-5955-4056-9606-16d3c0e02ff2",
   "metadata": {},
   "source": [
    "**3. Exploratory Data Analysis**"
   ]
  },
  {
   "cell_type": "markdown",
   "id": "a4724498-2042-4fb8-a484-c80077f75c2f",
   "metadata": {},
   "source": [
    "After preprocessing and tidying up our dataset, we can move onto visualizing and discovering trends in our data, while using statistical approaches to reinforce those trends. This will also allow us to gain a better understanding of our data as a whole, which is important if we want to make meaningful conclusions from it! \n",
    "\n",
    "To start off, let's make a correlation heatmap for our dataset, to get a general picture of what to expect. This heatmap represents the Pearson (r) correlation coefficient between each pair of attributes in our dataset. The Pearson correlation coefficient takes a value between -1 and 1, and tells you the linear correlation between two variables. A value of exactly -1 or 1 means the two variables form an exact negative or positive sloped line, respectively. Realistically though, this will never happen, but a value close to either endpoints means there is a strong linear correlation present. \n",
    "\n",
    "Note: I also included a \"mask\" which basically eliminates the top right side of the heatmap, as it is redundant. Other examples of heatmaps you encounter might not do this, and they also might have different color schemes, which can be confusing at first. The important thing is to look at the values which the colors represent. If you'd like to learn about heatmaps more and how to create your own, I'd highly recommend <a href=\"https://seaborn.pydata.org/generated/seaborn.heatmap.html\" target=\"blank\">seaborn's heatmap documentation</a>. "
   ]
  },
  {
   "cell_type": "code",
   "execution_count": 6,
   "id": "945dec83-f303-49a5-9005-9101f70aca08",
   "metadata": {},
   "outputs": [
    {
     "data": {
      "image/png": "[encoded data removed]",
      "text/plain": [
       "<Figure size 1152x432 with 2 Axes>"
      ]
     },
     "metadata": {
      "needs_background": "light"
     },
     "output_type": "display_data"
    }
   ],
   "source": [
    "plt.figure(figsize=(16, 6))\n",
    "\n",
    "# df.corr() finds the correlation matrix for our dataframe\n",
    "corr = df.corr()\n",
    "\n",
    "# create a mask to hide the top right portion of the heatmap, whose values are redundant\n",
    "mask=np.triu(corr)\n",
    "np.fill_diagonal(mask, False)\n",
    "\n",
    "# create a visual heatmap using seaborn's heatmap(). We can change the colors of the cmap if we want, but I tend to like this color scheme. \n",
    "heatmap = sns.heatmap(corr, cmap=sns.diverging_palette(20, 220, n=200), vmin=-1, vmax=1, annot=True, mask=mask)\n",
    "heatmap.set_title(\"Correlation Heatmap for UCI Heart Disease Data\", fontdict={\"fontsize\":12}, pad=12)\n",
    "\n",
    "plt.show()"
   ]
  },
  {
   "cell_type": "markdown",
   "id": "af87679c-8c8c-4e21-9728-365c5595eb35",
   "metadata": {},
   "source": [
    "Looking at the heatmap, we can infer a lot of information. We can see which attributes have a strong linear correlation, like for instance, age and max heart rate do, since their Pearson coefficient is -0.45. Also, ST segment depression and slope of peak ST are also linearly correlated, which is unsurprising given their definitions and how they relate. "
   ]
  },
  {
   "cell_type": "markdown",
   "id": "74c12615-2cfc-4fed-bf7c-cc558e8c5bc9",
   "metadata": {},
   "source": [
    "To dive deeper and gain more insight, we should further expand on our observations. Focusing on age vs max heart rate, let's see what else we can find.\n",
    "\n",
    "Let's try plotting the distribution of max heart rates for different year groups. First, we need to group the years into separate numerical bins, since they are numerical data. Grouping data is very useful because it allows us to make observations about a specific group of data and compare it to others. Looking at the unique ages, we can see that there is a range of 48 years, so 4 bins of size = 12 years each would work nicely. We can accomplish this task with pd.groupby() to group our data, and pd.cut() to separate the ages into the bins. More information about using groupby() and bins() can be found <a href=\"https://www.statology.org/pandas-groupby-bins/\" target=\"blank\">here</a>. Let's make our bins and group our data by age to visualize the distribution of max heart rate for each age group. "
   ]
  },
  {
   "cell_type": "code",
   "execution_count": 7,
   "id": "2a509735-7c48-4bd9-8258-fdd2d4bbbb2f",
   "metadata": {},
   "outputs": [
    {
     "data": {
      "text/plain": [
       "array([29., 34., 35., 37., 39., 40., 41., 42., 43., 44., 45., 46., 47.,\n",
       "       48., 49., 50., 51., 52., 53., 54., 55., 56., 57., 58., 59., 60.,\n",
       "       61., 62., 63., 64., 65., 66., 67., 68., 69., 70., 71., 74., 76.])"
      ]
     },
     "execution_count": 7,
     "metadata": {},
     "output_type": "execute_result"
    }
   ],
   "source": [
    "# consider the range of unique ages\n",
    "df[\"Age\"].sort_values().unique()"
   ]
  },
  {
   "cell_type": "code",
   "execution_count": 8,
   "id": "f29a7fb3-4325-4bca-9b75-bf41a20c3924",
   "metadata": {},
   "outputs": [
    {
     "name": "stdout",
     "output_type": "stream",
     "text": [
      "Length of bin 1 (Ages 29 to 40): 13\n",
      "Length of bin 2 (Ages 41 to 52): 83\n",
      "Length of bin 3 (Ages 53 to 64): 91\n",
      "Length of bin 4 (Ages 65 to 76): 26\n"
     ]
    }
   ],
   "source": [
    "# We have a range of 48 years, so let's group them into 4 bins of 12 years each.\n",
    "labels = [\"Ages 29 to 40\", \"Ages 41 to 52\", \"Ages 53 to 64\", \"Ages 65 to 76\"]\n",
    "\n",
    "# manually create the cutoff bins and group the ages using pd.groupby() and pd.cut()\n",
    "bins = [29, 40, 52, 64, 76]\n",
    "ages = df.groupby(pd.cut(df[\"Age\"], bins))\n",
    "age_dfs = []\n",
    "\n",
    "# save all groups and let's print each group's size just to see!\n",
    "for i, age in enumerate(ages.groups.keys()):\n",
    "    curr = ages.get_group(age)\n",
    "    age_dfs.append(curr)\n",
    "    print(f\"Length of bin {i + 1} ({labels[i]}): {len(curr)}\")"
   ]
  },
  {
   "cell_type": "markdown",
   "id": "3fa7f84e-e134-4a76-9330-60e8ef2ef9cb",
   "metadata": {},
   "source": [
    "Now, before plotting, we should be able to \"predict\" what the distributions should look like. Since the r coefficient is negative, this means that heart rate should decrease as the year groups increase. Let's see if this is the case!"
   ]
  },
  {
   "cell_type": "code",
   "execution_count": 9,
   "id": "801a1959-a302-429f-ba9b-f0b01ccbd92f",
   "metadata": {},
   "outputs": [
    {
     "data": {
      "image/png": "[encoded data removed]",
      "text/plain": [
       "<Figure size 720x1080 with 4 Axes>"
      ]
     },
     "metadata": {
      "needs_background": "light"
     },
     "output_type": "display_data"
    }
   ],
   "source": [
    "# find the min and max of max heart rate column to keep the x-axis consistent\n",
    "min = np.min(df[\"Max Heart Rate\"])\n",
    "max = np.max(df[\"Max Heart Rate\"])\n",
    "\n",
    "fig, axs = plt.subplots(4, figsize=(10, 15))\n",
    "\n",
    "# create a histogram for each age\n",
    "for i in range(4):\n",
    "    axs[i].hist(age_dfs[i][\"Max Heart Rate\"], range=(min, max), alpha=0.7, label=labels[i])\n",
    "    axs[i].set(title=f\"Distribution of Max Heart Rates for {labels[i]}\", ylabel=\"Frequency\")\n",
    "\n",
    "plt.xlabel(\"Max Heart Rate (Beats/Min)\")\n",
    "plt.tight_layout()\n",
    "plt.show()"
   ]
  },
  {
   "cell_type": "markdown",
   "id": "05d22663-0cfc-434c-bf78-147c342ed64b",
   "metadata": {},
   "source": [
    "As predicted, we can see from the distributions that the average max heart rate goes down as age increases, which is consistent with the r coefficient we found for the values.  "
   ]
  },
  {
   "cell_type": "markdown",
   "id": "58d4400f-6298-4461-a200-148085b255ee",
   "metadata": {},
   "source": [
    "Heart rate can be a telltale sign of cardiovascular health (though not always). An abnormally low heart beat can be a sign of heart disease or a heart attack, while a high one can be a sign of other cardiovascular problems, such as if the heart's pumping functionalities is reduced. Visualizing this relationship between age and max heart rate firsthand is beneficial to better understanding heart health and normal heart rates between different ages.   "
   ]
  },
  {
   "cell_type": "markdown",
   "id": "7d2ca5f3-0760-4f12-8244-2dfc473b7915",
   "metadata": {},
   "source": [
    "Apart from age groups, gender of a person is also relevant in regards to heart disease. For one, there have been <a href=\"https://www.health.harvard.edu/heart-health/throughout-life-heart-attacks-are-twice-as-common-in-men-than-women#:~:text=Researchers%20found%20that%20throughout%20life,mass%20index%2C%20and%20physical%20activity\" target=\"blank\">numerous studies</a> which show men are much more likely (around twice as much!!) to have heart attacks and heart disease than women. Let's see if we can conclude something similar with our data."
   ]
  },
  {
   "cell_type": "markdown",
   "id": "1d0bf69d-d354-469a-86de-22011d022e7a",
   "metadata": {},
   "source": [
    "Like with age, we will be using pd.groupby(), but with gender/sex this time. This will allow all men's and women's data to be separated into their own dataframes, so we can make comparisons between them. First, let's plot the proportion of women who got diagnosed with angiographic heart disease to that of men using a double bar plot. "
   ]
  },
  {
   "cell_type": "code",
   "execution_count": 10,
   "id": "8b5fb439-744e-4349-a527-52ed74405e9b",
   "metadata": {},
   "outputs": [
    {
     "name": "stdout",
     "output_type": "stream",
     "text": [
      "Number of Females: 80\n",
      "Number of Males: 134\n"
     ]
    }
   ],
   "source": [
    "# Now for gender, group by the sex column\n",
    "genders = df.groupby([\"Sex\"])\n",
    "female_df = genders.get_group(0)\n",
    "male_df = genders.get_group(1)\n",
    "\n",
    "len_f = len(female_df)\n",
    "len_m = len(male_df)\n",
    "\n",
    "print(\"Number of Females: \" + str(len_f))\n",
    "print(\"Number of Males: \" + str(len_m))"
   ]
  },
  {
   "cell_type": "code",
   "execution_count": 11,
   "id": "0d3bb9be-4a2c-46de-8796-e51d6fe94f53",
   "metadata": {},
   "outputs": [
    {
     "data": {
      "image/png": "[encoded data removed]",
      "text/plain": [
       "<Figure size 432x288 with 1 Axes>"
      ]
     },
     "metadata": {
      "needs_background": "light"
     },
     "output_type": "display_data"
    },
    {
     "name": "stdout",
     "output_type": "stream",
     "text": [
      "Proportion of women diagnosed with heart disease: 0.11\n",
      "Proportion of men diagnosed with heart disease: 0.34\n"
     ]
    }
   ],
   "source": [
    "# find number of females and males who got diagnosed \n",
    "num_diag_f = np.sum(female_df[\"Diagnosis\"])\n",
    "num_diag_m = np.sum(male_df[\"Diagnosis\"])\n",
    "\n",
    "# plot using a bar plot!\n",
    "fig, ax = plt.subplots(1)\n",
    "\n",
    "x_axis = np.arange(2)\n",
    "\n",
    "# note that the \"x_axis +- 0.2 is there to offset each bar so they don't overlap. It's 0.2 because the width=0.4\"\n",
    "ax.bar(x_axis - 0.2, [len_f - num_diag_f, num_diag_f], width=0.4, color=\"tab:orange\", alpha=0.7, label=\"Female\")\n",
    "ax.bar(x_axis + 0.2, [len_m - num_diag_m, num_diag_m], width=0.4, color=\"tab:blue\", alpha=0.7, label=\"Male\")\n",
    "\n",
    "ax.set(title=\"Frequency Heart Disease Diagnosis by Sex\", xlabel=\"Angiographic Diagnosis\", ylabel=\"Frequency\")\n",
    "\n",
    "plt.xticks(x_axis)\n",
    "plt.legend()\n",
    "plt.show()\n",
    "\n",
    "print(f\"Proportion of women diagnosed with heart disease: {num_diag_f/len_f:.2f}\")\n",
    "print(f\"Proportion of men diagnosed with heart disease: {num_diag_m/len_m:.2f}\")"
   ]
  },
  {
   "cell_type": "markdown",
   "id": "686a7751-1bed-403d-a021-d8078b9c25e1",
   "metadata": {},
   "source": [
    "As we can see, 11% of women in our dataset got diagnosed with angiographic heart disease which is far less than 33% of men. This means that according to our dataset, men are three times more likely to be diagnosed with heart disease than women, which is higher than the value of two times from the research study. This difference could be due to the fact that we need more data to get a more accurate result, since we only have 80 women and 134 men in our dataset. However, there is clearly a higher proportion of men having heart disease than women, as expected.  "
   ]
  },
  {
   "cell_type": "markdown",
   "id": "2d58148e-6b20-47aa-bb68-b62d22d7ddd2",
   "metadata": {},
   "source": [
    "As we are already grouped by sex, let's take this opportunity to make further inferences from our data. Let's take a look at the distribution of cholesterol levels between men and women, as our correlation heatmap indicates somewhat of a linear correlation between them. To do this, we can graph the histograms for each on the same plot, since there's only 2 histograms. To visualize their overlap clearly, we can change the transparency level of the colors to 50% (alpha=0.5). Let's see our results! "
   ]
  },
  {
   "cell_type": "code",
   "execution_count": 12,
   "id": "3e96b03b-058e-44a1-96aa-f302f3fbcf4b",
   "metadata": {},
   "outputs": [
    {
     "data": {
      "image/png": "[encoded data removed]",
      "text/plain": [
       "<Figure size 432x288 with 1 Axes>"
      ]
     },
     "metadata": {
      "needs_background": "light"
     },
     "output_type": "display_data"
    }
   ],
   "source": [
    "fig, ax = plt.subplots(1)\n",
    "\n",
    "# plot two histograms in one plot!\n",
    "ax.hist(female_df[\"Cholesterol Level\"], alpha=0.5, color=\"tab:orange\", label=\"Female\")\n",
    "ax.hist(male_df[\"Cholesterol Level\"], alpha=0.5, color=\"tab:blue\", label=\"Male\")\n",
    "ax.set(title=\"Cholesterol Level Distributions by Sex\", xlabel=\"Serum Cholesterol Level (mg/dl)\", ylabel=\"Frequency\")\n",
    "\n",
    "plt.legend()\n",
    "plt.show()"
   ]
  },
  {
   "cell_type": "markdown",
   "id": "b509d70e-370a-4c63-96b5-ee5a587f1b88",
   "metadata": {},
   "source": [
    "Looking at the two distributions, it seems that women generally have a higher cholesterol level than men, though it's pretty close. It's also been shown that a high cholesterol level increases the chances for heart disease, but however, women generally have higher levels of cholesterol but a lower chance of heart disease compared to men, which seems contradictory. This is likely because women's cholesterol levels aren't that much higher than men's, as shown by our plot, but more importantly, cholesterol is not the only determining factor for risk of heart disease!"
   ]
  },
  {
   "cell_type": "markdown",
   "id": "e7770701-d6ed-449a-a32c-08770c916ae6",
   "metadata": {},
   "source": [
    "Next, going back to age vs max heart rate, we saw that as age increased max heart rate decreased. But perhaps the rate of decrease is different for men vs women? Let's find out if their rates are different, by plotting a scatterplot of age vs max heart rate for men and women, and calculating a regression line for each using np.polyfit().  "
   ]
  },
  {
   "cell_type": "code",
   "execution_count": 13,
   "id": "49d3f80e-8751-4a4b-9fc1-a296202d86cf",
   "metadata": {},
   "outputs": [
    {
     "data": {
      "image/png": "[encoded data removed]",
      "text/plain": [
       "<Figure size 432x288 with 1 Axes>"
      ]
     },
     "metadata": {
      "needs_background": "light"
     },
     "output_type": "display_data"
    },
    {
     "name": "stdout",
     "output_type": "stream",
     "text": [
      "For women, max heart rate drops by 0.859 beats/min per year on average\n",
      "For men, max heart rate drops by 1.138 beats/min per year on average\n"
     ]
    }
   ],
   "source": [
    "fig, ax = plt.subplots(1)\n",
    "\n",
    "# grab the variables we need\n",
    "x1, y1 = female_df[\"Age\"], female_df[\"Max Heart Rate\"]\n",
    "x2, y2 = male_df[\"Age\"], male_df[\"Max Heart Rate\"]\n",
    "\n",
    "# use a scatterplot to plot the points\n",
    "ax.scatter(x1, y1, color=\"tab:orange\", alpha=0.7, label=\"Female\")\n",
    "ax.scatter(x2, y2, color=\"tab:blue\", alpha=0.7, label=\"Male\")\n",
    "ax.set(title=\"Age vs Max Heart Rate by Sex\", xlabel=\"Age\", ylabel=\"Max Heart Rate (Beats/Min)\")\n",
    "\n",
    "# find the regression line for each dataset (men and women), and plot them as well\n",
    "# since there's only one independent variable (age), we can use np.polyfit(). If we had more, we can use sklearn's LinearRegression()\n",
    "m1, b1 = np.polyfit(x1, y1, 1)\n",
    "ax.plot(x1, m1*x1+b1, color=\"green\", alpha=0.7, label=\"Female Line\")\n",
    "\n",
    "m2, b2 = np.polyfit(x2, y2, 1)\n",
    "ax.plot(x2, m2*x2+b2, color=\"purple\", alpha=0.7, label=\"Male Line\")\n",
    "\n",
    "plt.legend()\n",
    "plt.show()\n",
    "\n",
    "print(f\"For women, max heart rate drops by {abs(m1):.3f} beats/min per year on average\")\n",
    "print(f\"For men, max heart rate drops by {abs(m2):.3f} beats/min per year on average\")"
   ]
  },
  {
   "cell_type": "markdown",
   "id": "a39f6002-1099-40d1-873b-e6258d4f1c36",
   "metadata": {},
   "source": [
    "Each regression line minimizes the squared error of its respective dataset, and we can use that line to estimate the max heart rate given an age. To better understand how linear regression work, check out <a href=\"https://www.statisticshowto.com/probability-and-statistics/statistics-definitions/what-is-a-regression-equation/\" target=\"blank\">this article</a>. The slope of the regression lines also give the rate in which max heart rate decreases for every year of age increase. In our case, the slope for men is a bit steeper than that of women's, (-1.138 vs -0.859) but not by much. Let's try to examine the lines further by calculating their r coefficient values."
   ]
  },
  {
   "cell_type": "code",
   "execution_count": 14,
   "id": "f81ff40e-c739-4a9b-a9ba-79f7be2210c1",
   "metadata": {},
   "outputs": [
    {
     "name": "stdout",
     "output_type": "stream",
     "text": [
      "Pearson (r) coef for female dataset: -0.4601464683467836\n",
      "Pearson (r) coef for male dataset: -0.4454897626779205\n"
     ]
    }
   ],
   "source": [
    "# find the r-coefficient between age and max heart rate for each dataset\n",
    "female_r = np.corrcoef(x1, y1)[0, 1]\n",
    "male_r = np.corrcoef(x2, y2)[0, 1]\n",
    "print(f\"Pearson (r) coef for female dataset: {female_r}\")\n",
    "print(f\"Pearson (r) coef for male dataset: {male_r}\")"
   ]
  },
  {
   "cell_type": "markdown",
   "id": "27daaab6-e519-4d6d-a30e-af8a458b35dc",
   "metadata": {},
   "source": [
    "As expected, the two values are similar since the slopes of the lines are similar. The coefficents are both negative, which indicates a negative relationship between age and max heart rate (i.e as age increases, max heart rate decreases)"
   ]
  },
  {
   "cell_type": "code",
   "execution_count": 15,
   "id": "8e255af9-1db0-4d49-8e44-24d51b774928",
   "metadata": {},
   "outputs": [
    {
     "name": "stdout",
     "output_type": "stream",
     "text": [
      "R-squared value for female dataset: 0.2117347723320175\n",
      "R-squared value for male dataset: 0.19846112865082993\n"
     ]
    }
   ],
   "source": [
    "# Using the r coefficient, we can also calculate the r-squared value. \n",
    "print(f\"R-squared value for female dataset: {female_r**2}\")\n",
    "print(f\"R-squared value for male dataset: {male_r**2}\")"
   ]
  },
  {
   "cell_type": "markdown",
   "id": "930673cc-ecf7-404f-acee-47b0a517f935",
   "metadata": {},
   "source": [
    "Using the calculated r coefficient, we can also obtain the r-squared value by squaring our r coefficient. This r-squared value represents the amount of variance that can be explained by our linear model (y = mx + b, using np.polyfit()). In basically all cases, there will be variance present, because the data points won't match exactly to the regression line. The closer they do though, the high the r-squared value, which means that a high amount of variance in the data can be represented by the model. In our case however, the r-squared value is not that high, which means our model only explains a part of the total variance."
   ]
  },
  {
   "cell_type": "markdown",
   "id": "71da55ab-eff9-408f-b0ba-1669b091446f",
   "metadata": {},
   "source": [
    "**4. Hypothesis Testing using T-test**"
   ]
  },
  {
   "cell_type": "markdown",
   "id": "95b4e432-75bf-4141-b739-9f4d1cc6a9f1",
   "metadata": {},
   "source": [
    "Lastly, looking at the graph of our data, it seems that the average value for max heart rate is about the same for men and women. However, according to <a href=\"https://womenshealth.obgyn.msu.edu/blog/measuring-peak-heart-rate-women#:~:text=%E2%80%9CNow%20we%20know%20for%20the,a%20cardiologist%20at%20Northwestern%20Medicine\" target=\"blank\">research</a>, men's max heart rate tends to be higher than women's. To  see if our data follows trend as well, we can use a t-test! To perform one, let's use the ttest_ind() from the scipy.stats library. Note that in order to do this, the two samples have to be independent. In our case they are, since men and women datasets are independent. To learn more about hypothesis testing and t-tests, I encourage reading <a href=\"https://www.pythonfordatascience.org/independent-samples-t-test-python/\" target=\"blank\">this article</a>."
   ]
  },
  {
   "cell_type": "code",
   "execution_count": 16,
   "id": "ecd9f2c9-10f2-41fb-929e-6f66102503d6",
   "metadata": {},
   "outputs": [
    {
     "data": {
      "text/plain": [
       "Ttest_indResult(statistic=-0.5568603467159768, pvalue=0.28910511576684805)"
      ]
     },
     "execution_count": 16,
     "metadata": {},
     "output_type": "execute_result"
    }
   ],
   "source": [
    "female_samples = female_df[\"Max Heart Rate\"]\n",
    "male_samples = male_df[\"Max Heart Rate\"]\n",
    "st.ttest_ind(female_samples, male_samples, alternative=\"less\")"
   ]
  },
  {
   "cell_type": "markdown",
   "id": "2480784d-5581-4072-8f07-f92eba390efa",
   "metadata": {},
   "source": [
    "We pass our two samples into ttest_ind(), and use \"less\" as our alternative hypothesis, since we are testing if the max heart rate mean for women is less than that of men. We get a pval = ~0.29, which is greater than a choosen significance level of 0.05. Hence, there is not enough evidence to reject the null hypothesis, which means the average heart beat for women is about the same as that of men. This is not exactly the result we were expecting, so let's print out the sample means to see what's going on. "
   ]
  },
  {
   "cell_type": "code",
   "execution_count": 17,
   "id": "aa3626db-2e01-488b-85fe-bb3034ef3831",
   "metadata": {},
   "outputs": [
    {
     "name": "stdout",
     "output_type": "stream",
     "text": [
      "Sample max heart rate mean for women: 154.375\n",
      "Sample max heart rate mean for men: 156.015\n"
     ]
    }
   ],
   "source": [
    "print(f\"Sample max heart rate mean for women: {np.mean(female_samples):.3f}\")\n",
    "print(f\"Sample max heart rate mean for men: {np.mean(male_samples):.3f}\")"
   ]
  },
  {
   "cell_type": "markdown",
   "id": "830f4ec5-4b7b-45fe-9301-ecabda3bf16f",
   "metadata": {},
   "source": [
    "So, it seems that the men'ss data in our dataset only had a slightly higher mean for max heart rate. This slight increase, however, is not enough evidence to say that it's definitely higher than women's, which is why our t-test concluded that the means were about the same. "
   ]
  },
  {
   "cell_type": "markdown",
   "id": "a9d4c22a-98b6-4091-9627-8cbba0e519fe",
   "metadata": {},
   "source": [
    "**5. Using Logistic Regression to Predict Angiographic Diagnosis**"
   ]
  },
  {
   "cell_type": "markdown",
   "id": "b3348492-bbca-4059-8f86-67d346d14628",
   "metadata": {},
   "source": [
    "Finally, after visualizing our data and gaining a much better understanding of our data, we can use some the insights we gained to create a machine learning model to predict the  angiographic diagnosis of a new patient, given the other attributes. In our case, diagnosis is a classification problem which takes two classes, 0 and 1. For classification problems, a good algorithm to try is logistic regression, so let's give that a shot! Before we do that though, there's just one thing we should change about our data, which is adding one-hot encoding to some of our columns.  "
   ]
  },
  {
   "cell_type": "markdown",
   "id": "dc9f9343-d11d-49eb-a4f1-f99a3b2f5a06",
   "metadata": {},
   "source": [
    "One-hot encoding aims to solve the issue of assigning categorical variables to different integers. The reason this is a problem is because many machine learning algorithms use numbers to indicate significance, in other words, 2 is bigger than 1 and is therefore more important. But for categorical variables, let's say for pets, 2 might mean \"cat\", and 1 might mean \"dog\", but that doesn't mean cats are more important than dogs in our model. However, if we leave it like that without one-hot encoding, our machine learning model might interpret it incorrectly as cats being more important than dogs. "
   ]
  },
  {
   "cell_type": "markdown",
   "id": "cf3e4aa5-79a5-44e1-afef-168f76f5aa51",
   "metadata": {},
   "source": [
    "More specifically, one-hot encoding transforms numerical integers into boolean vectors of size n, where n is the number of categories for that variable. To do this with a pandas dataframe, we call the pd.get_dummies() method, which will create n new columns, one for each categorical value, and drop the old column. In our dataset, notice that we have three categorical variables with little meaning if we keep their numerical values unchanged. For example, one of them is chest pain type, which takes an integer from 1-4. However, those integers don't relate to one other at all, so it's better to use one-hot encoding instead. This will result in 4 new columns being created, since there are 4 different values for chest pain type, and the old chest pain type column being dropped. The same will be done with resting ECG and Thalassemia variables, each with their own number of categories.   "
   ]
  },
  {
   "cell_type": "markdown",
   "id": "b0b96dda-7f9c-42bd-801e-a459cb3370f3",
   "metadata": {},
   "source": [
    "However, for transparency's sake, one-hot encoding can have some drawbacks. For one, since we are splitting some variable into more than 1, it can produce more multicollinearity, as more variables will have correlation now. Increasing more columns can also lead to longer training times if we have a large amount of data, but for our small dataset, this won't be an issue. When dealing with a very large dataset with many more features however, this may be an issue. "
   ]
  },
  {
   "cell_type": "code",
   "execution_count": 18,
   "id": "8ee1842a-52ff-481d-84d5-e17007f7925b",
   "metadata": {},
   "outputs": [
    {
     "data": {
      "text/html": [
       "<div>\n",
       "<style scoped>\n",
       "    .dataframe tbody tr th:only-of-type {\n",
       "        vertical-align: middle;\n",
       "    }\n",
       "\n",
       "    .dataframe tbody tr th {\n",
       "        vertical-align: top;\n",
       "    }\n",
       "\n",
       "    .dataframe thead th {\n",
       "        text-align: right;\n",
       "    }\n",
       "</style>\n",
       "<table border=\"1\" class=\"dataframe\">\n",
       "  <thead>\n",
       "    <tr style=\"text-align: right;\">\n",
       "      <th></th>\n",
       "      <th>Age</th>\n",
       "      <th>Sex</th>\n",
       "      <th>Resting Blood Pressure</th>\n",
       "      <th>Cholesterol Level</th>\n",
       "      <th>Fasting Blood Sugar</th>\n",
       "      <th>Max Heart Rate</th>\n",
       "      <th>Exercise Induced Angina</th>\n",
       "      <th>ST Segment Depression</th>\n",
       "      <th>Slope of Peak ST</th>\n",
       "      <th>Major Vessels Colored</th>\n",
       "      <th>...</th>\n",
       "      <th>Typical Angina</th>\n",
       "      <th>Atypical Angina</th>\n",
       "      <th>Non-Anginal Pain</th>\n",
       "      <th>Asymptomatic Angina</th>\n",
       "      <th>Normal ECG</th>\n",
       "      <th>ST-T Abnormality ECG</th>\n",
       "      <th>Hypertrophy ECG</th>\n",
       "      <th>Normal Thalassemia</th>\n",
       "      <th>Fixed Defect Thalassemia</th>\n",
       "      <th>Reversable Defect Thalassemia</th>\n",
       "    </tr>\n",
       "  </thead>\n",
       "  <tbody>\n",
       "    <tr>\n",
       "      <th>0</th>\n",
       "      <td>63.0</td>\n",
       "      <td>1.0</td>\n",
       "      <td>145.0</td>\n",
       "      <td>233.0</td>\n",
       "      <td>1.0</td>\n",
       "      <td>150.0</td>\n",
       "      <td>0.0</td>\n",
       "      <td>2.3</td>\n",
       "      <td>3.0</td>\n",
       "      <td>0.0</td>\n",
       "      <td>...</td>\n",
       "      <td>1</td>\n",
       "      <td>0</td>\n",
       "      <td>0</td>\n",
       "      <td>0</td>\n",
       "      <td>0</td>\n",
       "      <td>0</td>\n",
       "      <td>1</td>\n",
       "      <td>0</td>\n",
       "      <td>1</td>\n",
       "      <td>0</td>\n",
       "    </tr>\n",
       "    <tr>\n",
       "      <th>1</th>\n",
       "      <td>67.0</td>\n",
       "      <td>1.0</td>\n",
       "      <td>120.0</td>\n",
       "      <td>229.0</td>\n",
       "      <td>0.0</td>\n",
       "      <td>129.0</td>\n",
       "      <td>1.0</td>\n",
       "      <td>2.6</td>\n",
       "      <td>2.0</td>\n",
       "      <td>2.0</td>\n",
       "      <td>...</td>\n",
       "      <td>0</td>\n",
       "      <td>0</td>\n",
       "      <td>0</td>\n",
       "      <td>1</td>\n",
       "      <td>0</td>\n",
       "      <td>0</td>\n",
       "      <td>1</td>\n",
       "      <td>0</td>\n",
       "      <td>0</td>\n",
       "      <td>1</td>\n",
       "    </tr>\n",
       "    <tr>\n",
       "      <th>2</th>\n",
       "      <td>37.0</td>\n",
       "      <td>1.0</td>\n",
       "      <td>130.0</td>\n",
       "      <td>250.0</td>\n",
       "      <td>0.0</td>\n",
       "      <td>187.0</td>\n",
       "      <td>0.0</td>\n",
       "      <td>3.5</td>\n",
       "      <td>3.0</td>\n",
       "      <td>0.0</td>\n",
       "      <td>...</td>\n",
       "      <td>0</td>\n",
       "      <td>0</td>\n",
       "      <td>1</td>\n",
       "      <td>0</td>\n",
       "      <td>1</td>\n",
       "      <td>0</td>\n",
       "      <td>0</td>\n",
       "      <td>1</td>\n",
       "      <td>0</td>\n",
       "      <td>0</td>\n",
       "    </tr>\n",
       "    <tr>\n",
       "      <th>3</th>\n",
       "      <td>41.0</td>\n",
       "      <td>0.0</td>\n",
       "      <td>130.0</td>\n",
       "      <td>204.0</td>\n",
       "      <td>0.0</td>\n",
       "      <td>172.0</td>\n",
       "      <td>0.0</td>\n",
       "      <td>1.4</td>\n",
       "      <td>1.0</td>\n",
       "      <td>0.0</td>\n",
       "      <td>...</td>\n",
       "      <td>0</td>\n",
       "      <td>1</td>\n",
       "      <td>0</td>\n",
       "      <td>0</td>\n",
       "      <td>0</td>\n",
       "      <td>0</td>\n",
       "      <td>1</td>\n",
       "      <td>1</td>\n",
       "      <td>0</td>\n",
       "      <td>0</td>\n",
       "    </tr>\n",
       "    <tr>\n",
       "      <th>4</th>\n",
       "      <td>56.0</td>\n",
       "      <td>1.0</td>\n",
       "      <td>120.0</td>\n",
       "      <td>236.0</td>\n",
       "      <td>0.0</td>\n",
       "      <td>178.0</td>\n",
       "      <td>0.0</td>\n",
       "      <td>0.8</td>\n",
       "      <td>1.0</td>\n",
       "      <td>0.0</td>\n",
       "      <td>...</td>\n",
       "      <td>0</td>\n",
       "      <td>1</td>\n",
       "      <td>0</td>\n",
       "      <td>0</td>\n",
       "      <td>1</td>\n",
       "      <td>0</td>\n",
       "      <td>0</td>\n",
       "      <td>1</td>\n",
       "      <td>0</td>\n",
       "      <td>0</td>\n",
       "    </tr>\n",
       "  </tbody>\n",
       "</table>\n",
       "<p>5 rows × 21 columns</p>\n",
       "</div>"
      ],
      "text/plain": [
       "    Age  Sex  Resting Blood Pressure  Cholesterol Level  Fasting Blood Sugar  \\\n",
       "0  63.0  1.0                   145.0              233.0                  1.0   \n",
       "1  67.0  1.0                   120.0              229.0                  0.0   \n",
       "2  37.0  1.0                   130.0              250.0                  0.0   \n",
       "3  41.0  0.0                   130.0              204.0                  0.0   \n",
       "4  56.0  1.0                   120.0              236.0                  0.0   \n",
       "\n",
       "   Max Heart Rate  Exercise Induced Angina  ST Segment Depression  \\\n",
       "0           150.0                      0.0                    2.3   \n",
       "1           129.0                      1.0                    2.6   \n",
       "2           187.0                      0.0                    3.5   \n",
       "3           172.0                      0.0                    1.4   \n",
       "4           178.0                      0.0                    0.8   \n",
       "\n",
       "   Slope of Peak ST Major Vessels Colored  ...  Typical Angina  \\\n",
       "0               3.0                   0.0  ...               1   \n",
       "1               2.0                   2.0  ...               0   \n",
       "2               3.0                   0.0  ...               0   \n",
       "3               1.0                   0.0  ...               0   \n",
       "4               1.0                   0.0  ...               0   \n",
       "\n",
       "   Atypical Angina  Non-Anginal Pain  Asymptomatic Angina  Normal ECG  \\\n",
       "0                0                 0                    0           0   \n",
       "1                0                 0                    1           0   \n",
       "2                0                 1                    0           1   \n",
       "3                1                 0                    0           0   \n",
       "4                1                 0                    0           1   \n",
       "\n",
       "   ST-T Abnormality ECG  Hypertrophy ECG  Normal Thalassemia  \\\n",
       "0                     0                1                   0   \n",
       "1                     0                1                   0   \n",
       "2                     0                0                   1   \n",
       "3                     0                1                   1   \n",
       "4                     0                0                   1   \n",
       "\n",
       "   Fixed Defect Thalassemia  Reversable Defect Thalassemia  \n",
       "0                         1                              0  \n",
       "1                         0                              1  \n",
       "2                         0                              0  \n",
       "3                         0                              0  \n",
       "4                         0                              0  \n",
       "\n",
       "[5 rows x 21 columns]"
      ]
     },
     "execution_count": 18,
     "metadata": {},
     "output_type": "execute_result"
    }
   ],
   "source": [
    "# One-hot encoding for each of the three columns. Each of them is dropped and is replaced by new columns of boolean values (0 or 1)\n",
    "df = pd.get_dummies(df, columns=[\"Chest Pain Type\", \"Resting ECG\", \"Thalassemia\"])\n",
    "\n",
    "# rename columns\n",
    "df = df.rename(columns={\"Chest Pain Type_1.0\":\"Typical Angina\", \"Chest Pain Type_2.0\":\"Atypical Angina\", \"Chest Pain Type_3.0\":\"Non-Anginal Pain\", \"Chest Pain Type_4.0\":\"Asymptomatic Angina\",\n",
    "                        \"Resting ECG_0.0\":\"Normal ECG\", \"Resting ECG_1.0\":\"ST-T Abnormality ECG\", \"Resting ECG_2.0\":\"Hypertrophy ECG\",\n",
    "                        \"Thalassemia_3.0\":\"Normal Thalassemia\", \"Thalassemia_6.0\":\"Fixed Defect Thalassemia\", \"Thalassemia_7.0\":\"Reversable Defect Thalassemia\"})\n",
    "df.head()"
   ]
  },
  {
   "cell_type": "markdown",
   "id": "a22b7339-4e82-4602-bde3-52d4487a75af",
   "metadata": {},
   "source": [
    "Now, we can train our Logistic Regression model using our dataset. To test the accuracy of our model, we will use K-Folds cross validation, which tests the dataset multiple times with different training and testing slices to ensure every row in our dataset is used for testing and training. This gives a better representation of the accuracy of our model, as opposed to just using one training and testing split. "
   ]
  },
  {
   "cell_type": "code",
   "execution_count": 19,
   "id": "f68f83e3-5e4d-488a-af1a-1c756152ab8d",
   "metadata": {},
   "outputs": [
    {
     "name": "stdout",
     "output_type": "stream",
     "text": [
      "Accuracy: 0.799\n",
      "Standard Deviation: 0.052\n"
     ]
    }
   ],
   "source": [
    "y = df[\"Diagnosis\"]\n",
    "X = df.drop(columns=[\"Diagnosis\"])\n",
    "\n",
    "# perform logistic regression using sklearn. Increased max_iter from default 100 to 1500 to remove a warning in which the regressor didn't converge\n",
    "lgr = LogisticRegression(max_iter=1500)\n",
    "\n",
    "scores = cross_val_score(lgr, X, y, scoring='accuracy', cv=KFold(n_splits=10, random_state=1, shuffle=True), n_jobs=-1)\n",
    "print(f\"Accuracy: {np.mean(scores):.3f}\\nStandard Deviation: {np.std(scores):.3f}\")"
   ]
  },
  {
   "cell_type": "markdown",
   "id": "81addbf8-375d-4624-9234-6082f39fa994",
   "metadata": {},
   "source": [
    "Overall, we got an accuracy of around 80%, which is pretty good. We can also use our model to predict the diagnosis of a new patient given their attributes, as shown below. Obviously this can't be used for medical purposes, but it's interesting to be able to do so with our dataset. For further work, one could train a similar model on a different dataset with different attributes, or perhaps one from a different region (other than Cleveland). Also, the model I used for classification was logistic regression, but there are many other classification models I could've used, like SVMs and decision trees. For a list of all possible models (and classification models), check out <a href=\"https://scikit-learn.org/stable/supervised_learning.html\" target=\"blank\">sklearn's wonderful documentation</a>. "
   ]
  },
  {
   "cell_type": "code",
   "execution_count": 20,
   "id": "f1777efb-a134-4ff0-b0d0-6ff7422a7296",
   "metadata": {},
   "outputs": [
    {
     "name": "stdout",
     "output_type": "stream",
     "text": [
      "Predicted Class: 0\n",
      "Actual Class: 0\n"
     ]
    }
   ],
   "source": [
    "# split the train and test set, using sklearn's train_test_split(), for a more accurate representation\n",
    "X_train, X_test, y_train, y_test = train_test_split(X, y, test_size=0.1)\n",
    "\n",
    "lgr.fit(X_train, y_train)\n",
    "\n",
    "# To remove a warning about decimal conversion\n",
    "import warnings\n",
    "warnings.filterwarnings(\"ignore\")\n",
    "\n",
    "# before predicting, convert dataframe/series to numpy array since train_test_split() shuffles indices of dataframes\n",
    "prediction = np.round(lgr.predict([np.array(X_test)[0]]))\n",
    "print(f\"Predicted Class: {prediction[0]}\\nActual Class: {np.array(y_test)[0]}\")"
   ]
  },
  {
   "cell_type": "markdown",
   "id": "456c6a9c-ec43-42a9-a171-e99752aec0fb",
   "metadata": {},
   "source": [
    "And just a refresher, the predicted class means the corresponding angiographic disease status diagnosis. A value of\n",
    "* 0 means < 50% artery diameter narrowing\n",
    "* 1 means > 50% artery diameter narrowing\n",
    "\n",
    "I've also included a link to more information as to what this means near the beginning of my tutorial, when I went over the different attributes of the dataset."
   ]
  },
  {
   "cell_type": "markdown",
   "id": "e7a23928-15b2-4fc9-84bf-553f1e1ee680",
   "metadata": {},
   "source": [
    "### Summary"
   ]
  },
  {
   "cell_type": "markdown",
   "id": "ff380d60-4b4a-486b-a22f-91efabe80a36",
   "metadata": {},
   "source": [
    "As mentioned, heart disease is an important topic which requires lots of research and investigation. My tutorial aims to provide a great understanding of the trends and factors related to heart disease, such as age, sex, and cholesterol levels, and using data science techniques and statistic analysis (Pearson coefficients, t-test) to prove those points. And to close it off, we trained a logistic regression classifier to predict the diagnosis of angiographic heart disease of new patients. I hope that users reading my tutorial gained a better understanding of heart disease and data science and are able to expand their knowledge to new datasets and different regression models, with an understanding of how and why it works.   "
   ]
  },
  {
   "cell_type": "code",
   "execution_count": null,
   "id": "8fcf109f-4a70-4afc-91e3-f316bcffe145",
   "metadata": {},
   "outputs": [],
   "source": []
  }
 ],
 "metadata": {
  "kernelspec": {
   "display_name": "Python 3",
   "language": "python",
   "name": "python3"
  },
  "language_info": {
   "codemirror_mode": {
    "name": "ipython",
    "version": 3
   },
   "file_extension": ".py",
   "mimetype": "text/x-python",
   "name": "python",
   "nbconvert_exporter": "python",
   "pygments_lexer": "ipython3",
   "version": "3.8.6rc1"
  }
 },
 "nbformat": 4,
 "nbformat_minor": 5
}
